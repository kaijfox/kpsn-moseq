{
 "cells": [
  {
   "cell_type": "markdown",
   "metadata": {},
   "source": [
    "Run moseq model on Mo's dataset under dilation of given mice to see the relationship between gross morphological variable and syllables\n",
    "\n",
    "Relies on the moseq project and training set up in `kpms_mo_data.ipynb`"
   ]
  },
  {
   "cell_type": "code",
   "execution_count": 21,
   "metadata": {},
   "outputs": [
    {
     "name": "stdout",
     "output_type": "stream",
     "text": [
      "The autoreload extension is already loaded. To reload it, use:\n",
      "  %reload_ext autoreload\n"
     ]
    }
   ],
   "source": [
    "%load_ext autoreload\n",
    "%autoreload 3 --print"
   ]
  },
  {
   "cell_type": "code",
   "execution_count": 28,
   "metadata": {},
   "outputs": [],
   "source": [
    "import kpsn_moseq_explore.lib.kpms_custom_io as cio\n",
    "from kpsn_moseq_explore import viz\n",
    "from kpsn_moseq_explore import lib\n",
    "\n",
    "import matplotlib.pyplot as plt\n",
    "import numpy as np\n",
    "import joblib as jl\n",
    "import re, os.path"
   ]
  },
  {
   "cell_type": "code",
   "execution_count": 19,
   "metadata": {},
   "outputs": [],
   "source": [
    "import keypoint_moseq as kpms\n",
    "\n",
    "root_dir = '/home/kaf200/datta/kai/mph/moseq-explore'\n",
    "project_dir = f'{root_dir}/kpms_projects/modata'\n",
    "data_dir = f'{root_dir}/recordings/modata'\n",
    "model_name = 'allsubj_continued'\n",
    "results_dir = f'{root_dir}/kpms_results/modata/{model_name}'\n",
    "config = lambda: kpms.load_config(project_dir)"
   ]
  },
  {
   "cell_type": "code",
   "execution_count": 4,
   "metadata": {},
   "outputs": [
    {
     "name": "stderr",
     "output_type": "stream",
     "text": [
      "Loading keypoints: 100%|████████████████| 44/44 [00:00<00:00, 56.22it/s]\n"
     ]
    }
   ],
   "source": [
    "coordinates, confidences, bodyparts = cio.load_keypoints_with_loader(\n",
    "    f'{data_dir}/**/*.gimbal_results.p',\n",
    "    cio.create_multicam_gimbal_loader(config()['bodyparts']),\n",
    "    '.gimbal_results.p',\n",
    "    name_func = lambda path, *a: re.search(r\"(?:/.*)+/\\d{2}_\\d{2}_\\d{2}_(\\d+wk_m\\d+)\\.gimbal_results\\.p\", path).group(1))\n",
    "\n",
    "# format data for modeling\n",
    "data, metadata = kpms.format_data(coordinates, confidences, **config())\n",
    "\n",
    "import jax_moseq.utils\n",
    "data = jax_moseq.utils.convert_data_precision(data)"
   ]
  },
  {
   "cell_type": "code",
   "execution_count": 11,
   "metadata": {},
   "outputs": [
    {
     "data": {
      "image/png": "[encoded data removed]",
      "text/plain": [
       "<Figure size 500x500 with 1 Axes>"
      ]
     },
     "metadata": {},
     "output_type": "display_data"
    }
   ],
   "source": [
    "### Validate that `scale_keypoint_array` does what's expected\n",
    "frames = [200, 2300, 4200]\n",
    "session = '12wk_m0'\n",
    "xaxis, yaxis = 0, 1\n",
    "\n",
    "fig, ax = plt.subplots(figsize = (5, 5))\n",
    "original = coordinates[session]\n",
    "rescaled = lib.transforms.scale_keypoint_array(coordinates[session], 1.5, **config())\n",
    "for frame in frames:\n",
    "    viz.bodies.plot_mouse_2d(\n",
    "        ax, original[frame], xaxis, yaxis, color = '.3', **config())\n",
    "\n",
    "    viz.bodies.plot_mouse_2d(\n",
    "        ax, rescaled[frame], xaxis, yaxis, color = 'C0', **config())\n",
    "    \n",
    "plt.tight_layout()\n",
    "plt.show()"
   ]
  },
  {
   "cell_type": "markdown",
   "metadata": {},
   "source": [
    "Apply moseq model across scales"
   ]
  },
  {
   "cell_type": "code",
   "execution_count": 31,
   "metadata": {},
   "outputs": [
    {
     "name": "stdout",
     "output_type": "stream",
     "text": [
      "Running allsubj_continued at scale 0.75 on 3wk_m0\n",
      "Scaled keypoints\n",
      "Formatted data\n",
      "Converted precision.\n"
     ]
    },
    {
     "name": "stderr",
     "output_type": "stream",
     "text": [
      "Applying model: 100%|███████████████████| 50/50 [01:09<00:00,  1.39s/it]\n"
     ]
    },
    {
     "name": "stdout",
     "output_type": "stream",
     "text": [
      "Saved to: /home/kaf200/datta/kai/mph/moseq-explore/kpms_results/modata/allsubj_continued/3wk_m0-f0.75-results.p\n",
      "Running allsubj_continued at scale 1.25 on 3wk_m0\n",
      "Scaled keypoints\n",
      "Formatted data\n",
      "Converted precision.\n"
     ]
    },
    {
     "name": "stderr",
     "output_type": "stream",
     "text": [
      "Applying model:   0%|                            | 0/50 [00:02<?, ?it/s]"
     ]
    },
    {
     "name": "stdout",
     "output_type": "stream",
     "text": [
      "Early termination of fitting: user interruption\n",
      "Saved to: /home/kaf200/datta/kai/mph/moseq-explore/kpms_results/modata/allsubj_continued/3wk_m0-f1.25-results.p\n",
      "Running allsubj_continued at scale 1.5 on 3wk_m0\n",
      "Scaled keypoints\n",
      "Formatted data\n",
      "Converted precision.\n"
     ]
    },
    {
     "name": "stderr",
     "output_type": "stream",
     "text": [
      "\n",
      "Applying model:  20%|███▊               | 10/50 [00:17<01:10,  1.76s/it]"
     ]
    },
    {
     "name": "stdout",
     "output_type": "stream",
     "text": [
      "Early termination of fitting: user interruption\n",
      "Saved to: /home/kaf200/datta/kai/mph/moseq-explore/kpms_results/modata/allsubj_continued/3wk_m0-f1.5-results.p\n"
     ]
    },
    {
     "name": "stderr",
     "output_type": "stream",
     "text": [
      "\n"
     ]
    }
   ],
   "source": [
    "# approx 16 min / subj / scale\n",
    "# load the most recent model checkpoint and pca object\n",
    "model = kpms.load_checkpoint(project_dir, model_name)[0]\n",
    "pca = kpms.load_pca(project_dir)\n",
    "\n",
    "sessions = ['3wk_m0', '3wk_m1', '5wk_m0', '5wk_m1', '24wk_m0', '24wk_m1']\n",
    "scale_factors = [1.5]\n",
    "\n",
    "# load new data (e.g. from deeplabcut)\n",
    "\n",
    "if not os.path.isdir(results_dir):\n",
    "    raise IOError(f\"Results directory does not exist: {results_dir}\")\n",
    "\n",
    "for session in sessions:\n",
    "    for scale_factor in [0.75, 1.25, 1.5]:\n",
    "        print(f\"Running {model_name} at scale {scale_factor} on {session}\")\n",
    "        \n",
    "        scaled_coords = {session: np.array(lib.transforms.scale_keypoint_array(\n",
    "                            coordinates[session], scale_factor, **config()))}\n",
    "        scaled_data, scaled_metadata = kpms.format_data(scaled_coords, confidences, **config())\n",
    "        scaled_data = jax_moseq.utils.convert_data_precision(scaled_data)\n",
    "\n",
    "        results = kpms.apply_model(\n",
    "            model, pca, scaled_data, scaled_metadata,\n",
    "            project_dir, model_name,\n",
    "            save_results = False,\n",
    "            parallel_message_passing = True,\n",
    "            **config())\n",
    "        \n",
    "        results_path = f'{results_dir}/{session}-f{scale_factor}-results.p'\n",
    "        print(\"Saved to:\", results_path)\n",
    "        jl.dump(results, results_path)"
   ]
  },
  {
   "cell_type": "code",
   "execution_count": null,
   "metadata": {},
   "outputs": [],
   "source": []
  }
 ],
 "metadata": {
  "kernelspec": {
   "display_name": "Python 3 (ipykernel)",
   "language": "python",
   "name": "python3"
  },
  "language_info": {
   "codemirror_mode": {
    "name": "ipython",
    "version": 3
   },
   "file_extension": ".py",
   "mimetype": "text/x-python",
   "name": "python",
   "nbconvert_exporter": "python",
   "pygments_lexer": "ipython3",
   "version": "3.9.18"
  }
 },
 "nbformat": 4,
 "nbformat_minor": 2
}
