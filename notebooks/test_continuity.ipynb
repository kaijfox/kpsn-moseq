{
 "cells": [
  {
   "cell_type": "code",
   "execution_count": 3,
   "metadata": {},
   "outputs": [
    {
     "name": "stdout",
     "output_type": "stream",
     "text": [
      "Iter 0, 1698937982.264891\n",
      "Iter 1, 1698937987.2699542\n",
      "Iter 2, 1698937992.2751293\n",
      "Iter 3, 1698937997.2799747\n",
      "Iter 4, 1698938002.2861276\n",
      "Iter 9, 1698938027.3129718\n",
      "Iter 10, 1698938032.3180094\n",
      "Iter 11, 1698938037.3231733\n",
      "Iter 12, 1698938042.3291388\n",
      "Iter 13, 1698938047.334154\n",
      "Iter 14, 1698938052.3399825\n",
      "Iter 15, 1698938057.3461502\n",
      "Iter 16, 1698938062.351986\n",
      "Iter 17, 1698938067.3572662\n",
      "Iter 18, 1698938072.3735652\n",
      "Iter 19, 1698938077.379217\n"
     ]
    }
   ],
   "source": [
    "import time\n",
    "logpath = \"/home/kaf200/tmp/log.txt\"\n",
    "with open(logpath, 'w') as f:\n",
    "    f.write(\"\")\n",
    "for i in range(20):\n",
    "    with open(logpath, 'a') as f:\n",
    "        logstr = f\"Iter {i}, {time.time()}\"\n",
    "        f.write(logstr + '\\n')\n",
    "        f.flush()\n",
    "        print(logstr)\n",
    "    time.sleep(5)"
   ]
  },
  {
   "cell_type": "code",
   "execution_count": null,
   "metadata": {},
   "outputs": [],
   "source": []
  }
 ],
 "metadata": {
  "kernelspec": {
   "display_name": "Python 3 (ipykernel)",
   "language": "python",
   "name": "python3"
  }
 },
 "nbformat": 4,
 "nbformat_minor": 2
}
