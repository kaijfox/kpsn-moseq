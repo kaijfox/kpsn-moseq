{
 "cells": [
  {
   "cell_type": "code",
   "execution_count": 1,
   "id": "f01641d9-7d10-46f7-888a-c0719557ff19",
   "metadata": {},
   "outputs": [],
   "source": [
    "import kpsn_moseq_explore.lib.kpms_custom_io as cio\n",
    "from kpsn_moseq_explore import lib\n",
    "import numpy as np\n",
    "import joblib as jl\n",
    "import glob, os"
   ]
  },
  {
   "cell_type": "code",
   "execution_count": 3,
   "id": "6b179e0c-6c3a-49f8-aa5d-ccc0b6ccc44a",
   "metadata": {},
   "outputs": [],
   "source": [
    "import keypoint_moseq as kpms\n",
    "\n",
    "dataset = 'modata'\n",
    "# dataset = 'twoscale_wk5'\n",
    "root_dir = '/home/kaf200/datta/kai/mph/moseq-explore'\n",
    "\n",
    "project_dir = f'{root_dir}/kpms_projects/{dataset}'\n",
    "data_dir = f'{root_dir}/recordings/modata'\n",
    "results_dir = lambda: f'{root_dir}/kpms_results/{dataset}/{model_name}'\n",
    "\n",
    "if not os.path.isdir(project_dir):\n",
    "    print(f\"Warning: project directory does not exist:\\n{project_dir}\")\n",
    "\n",
    "config = lambda: kpms.load_config(project_dir)"
   ]
  },
  {
   "cell_type": "code",
   "execution_count": 4,
   "id": "2a6f9e94-8079-4d28-80b7-82174ca29ec4",
   "metadata": {},
   "outputs": [
    {
     "name": "stderr",
     "output_type": "stream",
     "text": [
      "Loading keypoints: 100%|████████████████| 44/44 [00:01<00:00, 23.33it/s]\n"
     ]
    }
   ],
   "source": [
    "if dataset == 'modata':\n",
    "    data, metadata = lib.datasets.modata(data_dir, config())"
   ]
  },
  {
   "cell_type": "code",
   "execution_count": 6,
   "id": "ae9b5303-6abf-4911-a5a1-1f2b94bbd55f",
   "metadata": {},
   "outputs": [],
   "source": [
    "model_name = \"allsubj_continued\"\n",
    "model, data, metadata, current_iter = kpms.load_checkpoint(\n",
    "    project_dir, model_name)"
   ]
  },
  {
   "cell_type": "code",
   "execution_count": 9,
   "id": "ec0bec21-d849-48b7-8801-f2dd58ef0ea8",
   "metadata": {},
   "outputs": [
    {
     "data": {
      "text/plain": [
       "dict_keys(['h', 's', 'v', 'x', 'z'])"
      ]
     },
     "execution_count": 9,
     "metadata": {},
     "output_type": "execute_result"
    }
   ],
   "source": []
  },
  {
   "cell_type": "code",
   "execution_count": null,
   "id": "653730e3-10d2-4901-84ee-828f707d6501",
   "metadata": {},
   "outputs": [],
   "source": []
  }
 ],
 "metadata": {
  "kernelspec": {
   "display_name": "mph_kpms",
   "language": "python",
   "name": "mph_kpms"
  },
  "language_info": {
   "codemirror_mode": {
    "name": "ipython",
    "version": 3
   },
   "file_extension": ".py",
   "mimetype": "text/x-python",
   "name": "python",
   "nbconvert_exporter": "python",
   "pygments_lexer": "ipython3",
   "version": "3.9.18"
  }
 },
 "nbformat": 4,
 "nbformat_minor": 5
}
